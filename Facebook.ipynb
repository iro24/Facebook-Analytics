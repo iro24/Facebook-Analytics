{
 "cells": [
  {
   "cell_type": "code",
   "execution_count": 1,
   "metadata": {
    "collapsed": false
   },
   "outputs": [],
   "source": [
    "from bs4 import BeautifulSoup\n",
    "import pandas as pd\n",
    "import os,re\n",
    "import dateutil.parser as dateparser\n",
    "\n",
    "#os.chdir(r'C:\\Users\\*\\Desktop\\Python Scripts\\FB');os.getcwd()\n",
    "soup = BeautifulSoup(open('messages.htm').read(), \"lxml\") # FB"
   ]
  },
  {
   "cell_type": "code",
   "execution_count": 42,
   "metadata": {
    "collapsed": false
   },
   "outputs": [
    {
     "name": "stdout",
     "output_type": "stream",
     "text": [
      "Facebook Activities\n",
      "FB Messages: 271684 :  FB Conversations: 556\n"
     ]
    }
   ],
   "source": [
    "# Facebook Activities\n",
    "tx=[];date=[];user=[]\n",
    "conv=soup.findAll('div',class_=\"thread\")\n",
    "for item in conv:\n",
    "    tx.append([i.text.encode(\"utf-8\") for i in item.findAll('p')])\n",
    "    date.append([i.text.encode(\"utf-8\") for i in item.findAll('span',class_='meta')])\n",
    "    user.append([i.text.encode(\"utf-8\") for i in item.findAll('span',class_='user')])\n",
    "tx =[item for sublist in tx for item in sublist]  # Texts\n",
    "date=[item for sublist in date for item in sublist] # Dates\n",
    "user=[item for sublist in user for item in sublist] # Users\n",
    "shdt=[dateparser.parse(item).strftime('%Y-%m-%d') for item in date] # Changing dates\n",
    "date=[dateparser.parse(item).strftime('%Y-%m-%d %H:%M') for item in date] # Changing dates\n",
    "FM=len(tx) # total number of FB messages\n",
    "FC=len(conv) # total number of FB conversations/threads\n",
    "print \"Facebook Activities\"\n",
    "print \"FB Messages:\", FM, \":  FB Conversations:\", FC"
   ]
  },
  {
   "cell_type": "code",
   "execution_count": 4,
   "metadata": {
    "collapsed": false
   },
   "outputs": [
    {
     "name": "stdout",
     "output_type": "stream",
     "text": [
      "Enter your FB name:\n",
      "Total number of calls:  3064\n",
      "You called: 923  You missed: 420 | Others called: 1206 Others missed: 515\n"
     ]
    }
   ],
   "source": [
    "\"\"\" Calculating number of calls if you and your friends FB languages are English, Italian or Russian\n",
    "    1) You can review actual call messages to ensure that they are correct by looking at y,r,z,w variables\n",
    "    2) Not very accurate because can include also messages which contain those words but you should check step 1) .\"\"\"\n",
    "your_name=raw_input(\"Enter your FB name:\")\n",
    "a=[your_name,\"called\"]; b=[your_name,\"missed\"]; e=[your_name,\"persa\"]\n",
    "c=[\" called \"+your_name,\"ha chiamato \"+your_name]; d=[\"missed \"+your_name,\"perso \"+your_name];\n",
    "call=[] ;f=[]; h=[]\n",
    "for i in tx:\n",
    "    if all(x in i for x in a):  call.append(\"FB Call\");f.append(i)\n",
    "    elif all(x in i for x in b):call.append(\"FB Call\");f.append(i)\n",
    "    elif any(x in i for x in c):call.append(\"FB Call\");f.append(i)\n",
    "    elif any(x in i for x in d):call.append(\"FB Call\");f.append(i)\n",
    "    elif all(x in i for x in e):call.append(\"FB Call\");f.append(i)\n",
    "    elif \"позвонила\" in i:      call.append(\"FB Call\");f.append(i) #Called in Russian\n",
    "    elif \"позвонил\" in i:       call.append(\"FB Call\");f.append(i) #Called in Russian\n",
    "    elif \"пропустил\" in i:      call.append(\"FB Call\");f.append(i) #Missed in Russian\n",
    "    elif \"пропустила\" in i:      call.append(\"FB Call\");f.append(i) #Missed in Russian\n",
    "    else:                       call.append(\"FB Msg\");h.append(i)\n",
    "#Calculating number of calls for you and other persons\n",
    "me=[x for x in f if x.startswith(your_name)==True]\n",
    "no=[x for x in f if x.startswith(your_name)!=True]\n",
    "y=[];r=[];z=[];w=[]\n",
    "for i in me:\n",
    "    if   all(x in i for x in a):  y.append(i) # number of times you called\n",
    "    else:                         r.append(i) # number of times you missed\n",
    "for i in no:\n",
    "    if any(x in i for x in c):    z.append(i) # number of times others called\n",
    "    elif \"позвонила\" in i:        z.append(i) # number of times others called in Russian\n",
    "    else:                         w.append(i) # number of times others missed\n",
    "YC=len(y) # You called\n",
    "YM=len(r) # You missed\n",
    "OC=len(z) # Others called\n",
    "OM=len(w) # Others missed\n",
    "TO=len(y)+len(r)+len(z)+len(w)\n",
    "print \"Total number of calls: \", TO\n",
    "print \"You called:\",YC,\" You missed:\", YM, \"| Others called:\",OC,\"Others missed:\",OM"
   ]
  },
  {
   "cell_type": "code",
   "execution_count": 5,
   "metadata": {
    "collapsed": false
   },
   "outputs": [
    {
     "name": "stdout",
     "output_type": "stream",
     "text": [
      "10 Most Used Words\n",
      "si 32437\n",
      "la 26908\n",
      "sa 26465\n",
      "nu 24779\n",
      "de 23692\n",
      "ca 19263\n",
      "am 17789\n",
      "in 16128\n",
      "mai 14681\n",
      "e 13744\n"
     ]
    }
   ],
   "source": [
    "\"\"\" See your most used words in your FB messages\"\"\"\n",
    "et=[[i[1]] for i in [list(i) for i in zip(call,tx)] if i[0]==\"FB Msg\"]\n",
    "dd = re.sub(r'[?|$|.|!|,]',r'',\" \".join(e[0] for e in et)).lower()\n",
    "counts = dict()\n",
    "for word in dd.rsplit(): counts[word] = counts.get(word,0) + 1\n",
    "bigcount = None;bigword = None\n",
    "for word,count in counts.items():\n",
    "    if bigcount == None or count > bigcount: bigword = word;bigcount = count\n",
    "#print bigword, bigcount\n",
    "print \"10 Most Used Words\"\n",
    "for entry in sorted(counts.items(), key = lambda x: x[1], reverse=True)[:10]:\n",
    "    print list(entry)[0],list(entry)[1]"
   ]
  },
  {
   "cell_type": "code",
   "execution_count": 8,
   "metadata": {
    "collapsed": false
   },
   "outputs": [
  {
     "data": {
      "image/png": "[encoded data removed]",
      "text/plain": [
       "<matplotlib.figure.Figure at 0xfef4be0>"
      ]
     },
     "metadata": {},
     "output_type": "display_data"
    }
   ],
   "source": [
    "\"\"\"Plot the number of messages and calls\"\"\"\n",
    "%matplotlib inline\n",
    "import matplotlib.pyplot as plt\n",
    "\n",
    "# The slices will be ordered and plotted counter-clockwise.\n",
    "labels =  'FB Message', 'FB Call'\n",
    "sizes = [FM, TO]\n",
    "colors = ['lightskyblue','gold']\n",
    "explode = (0, 0.2)  # only \"explode\" the 2nd slice\n",
    "#patches, texts = plt.pie(sizes, colors=colors, startangle=90, explode=explode, autopct='%1.1f%%')\n",
    "#plt.legend(patches, labels, loc=\"best\")\n",
    "patches, texts,junk=plt.pie(sizes, explode=explode, shadow=True, colors=colors, startangle=90, autopct='%1.1f%%')\n",
    "plt.legend(patches, labels,loc='center right',\n",
    "           fontsize=10)\n",
    "plt.axis('equal')\n",
    "#plt.figure(figsize=(20,20))\n",
    "#plt.savefig('fig1.png', dpi = 300)\n",
    "#plt.close()"
   ]
  },
  {
   "cell_type": "code",
   "execution_count": 50,
   "metadata": {
    "collapsed": false
   },
   "outputs": [
    {
     "name": "stdout",
     "output_type": "stream",
     "text": [
      "Now we can plot our daily calls and messages\n"
     ]
    }
   ],
   "source": [
    "# will store your messages into a list\n",
    "conv1=[list(i) for i in zip(shdt,user,tx,call)]\n",
    "conv1.sort(key=lambda x: x[0])\n",
    "conv1=[[\"Date\", \"User\", \"Text\",\"Call\"]]+conv1\n",
    "\n",
    "\"\"\"Prepare our data to plot the FB timeline\"\"\"\n",
    "df=pd.DataFrame(conv1[1:],columns=conv1[0])\n",
    "df=df.sort_values(by='Date');\n",
    "df1=df[df['Call']=='FB Msg']\n",
    "df2=df[df['Call']!='FB Msg']\n",
    "#df2[df2.Call!='FB Msg'].Call=1\n",
    "table = pd.pivot_table(df1, values=['Call'], index=['Date'], aggfunc='count')\n",
    "table1 = pd.pivot_table(df2, values=['Call'], index=['Date'], aggfunc='count')\n",
    "# Count number of days between dates\n",
    "d0 = dateparser.parse(sorted(list(set(date)))[0]).date()\n",
    "d1 = dateparser.parse(sorted(list(set(date)))[-1]).date()\n",
    "delta = d1 - d0  #print delta.days # number of days\n",
    "idx = pd.date_range(d0, d1)\n",
    "table.index = pd.DatetimeIndex(table.index)\n",
    "table.reindex(idx,fill_value=0)\n",
    "table1.index = pd.DatetimeIndex(table1.index)\n",
    "table1.reindex(idx,fill_value=0)\n",
    "print \"Now we can plot our daily calls and messages\""
   ]
  },
  {
   "cell_type": "code",
   "execution_count": 51,
   "metadata": {
    "collapsed": false
   },
   "outputs": [
   ],
   "source": [
    "\"\"\"Plots the timeline of our messages on y axis while calls will be on the secondary y axis\"\"\"\n",
    "%matplotlib inline\n",
    "import matplotlib.pyplot as plt\n",
    "#plt.show()\n",
    "fig, ax = plt.subplots()\n",
    "table.reset_index().plot(x='Date', y='Call', label='MSG',ax=ax)\n",
    "table1.reset_index().plot(x='Date', y='Call',ax=ax, secondary_y=True)\n",
    "lines = ax.get_lines() + ax.right_ax.get_lines()\n",
    "labs = [l.get_label() for l in lines]\n",
    "ax.legend(lines, labs, loc='upper left')"
   ]
  },
  {
   "cell_type": "code",
   "execution_count": null,
   "metadata": {
    "collapsed": false
   },
   "outputs": [],
   "source": [
    "# Exports all conversations sorted by date\n",
    "conv=[list(i) for i in zip(date,user,tx,call)]\n",
    "conv.sort(key=lambda x: x[0])\n",
    "conv=[[\"Date\", \"User\", \"Text\",\"Call\"]]+conv\n",
    "import csv\n",
    "with open('FB.csv', 'wb') as f:\n",
    "    writer = csv.writer(f)\n",
    "    writer.writerows(conv)"
   ]
  }
 ],
 "metadata": {
  "anaconda-cloud": {},
  "kernelspec": {
   "display_name": "Python [default]",
   "language": "python",
   "name": "python2"
  },
  "language_info": {
   "codemirror_mode": {
    "name": "ipython",
    "version": 2
   },
   "file_extension": ".py",
   "mimetype": "text/x-python",
   "name": "python",
   "nbconvert_exporter": "python",
   "pygments_lexer": "ipython2",
   "version": "2.7.12"
  }
 },
 "nbformat": 4,
 "nbformat_minor": 1
}
